{
 "cells": [
  {
   "cell_type": "markdown",
   "metadata": {},
   "source": [
    "# Homework 3\n",
    "\n",
    "## Your name here\n",
    "\n",
    "Instructions: \n",
    "\n",
    " 1. Please replace \"Yourname\" above, and in the title of this notebook. \n",
    " 2. Import all the libraries you end up using in the cell below. Please only use those libraries which we have used in class (i.e. nltk, collections, pandas, etc.). \n",
    " 3. Complete all the exercises, replacing \"enter code here\" with your code, and \"enter markdown here\" with your markdown. Annotate with comments (lines beginning with `#`) or with markdown cells, to show how you arrived at your answers.  \n",
    " 4. From the Kernel menu, select \"restart and run all.\" This will help me to see the output of your answers. \n",
    " 5. Email me your completed notebook: jonathan.reeve@columbia.edu\n"
   ]
  },
  {
   "cell_type": "code",
   "execution_count": 11,
   "metadata": {},
   "outputs": [],
   "source": [
    "# Import your libraries here. \n",
    "import nltk\n",
    "import collections"
   ]
  },
  {
   "cell_type": "markdown",
   "metadata": {},
   "source": [
    "### 1. Find the longest word in _The Moonstone_. "
   ]
  },
  {
   "cell_type": "code",
   "execution_count": 1,
   "metadata": {},
   "outputs": [],
   "source": [
    "moonstone = open('../Texts/moonstone.md').read()"
   ]
  },
  {
   "cell_type": "code",
   "execution_count": 8,
   "metadata": {},
   "outputs": [],
   "source": [
    "moonstoneTokens = nltk.word_tokenize(moonstone)"
   ]
  },
  {
   "cell_type": "code",
   "execution_count": 28,
   "metadata": {},
   "outputs": [],
   "source": [
    "moonstoneTokensClean = [token.lower() for token in moonstoneTokens if token.isalpha()]"
   ]
  },
  {
   "cell_type": "code",
   "execution_count": 10,
   "metadata": {},
   "outputs": [],
   "source": [
    "longestLength = 0 \n",
    "longestWords = []\n",
    "for token in moonstoneTokensClean: \n",
    "    if len(token) > longestLength: \n",
    "        longestLength = len(token)\n",
    "        longestWords = [token]\n",
    "    if len(token) == longestLength:\n",
    "        longestWords.append(token)"
   ]
  },
  {
   "cell_type": "code",
   "execution_count": 12,
   "metadata": {},
   "outputs": [
    {
     "data": {
      "text/plain": [
       "{'misunderstandings'}"
      ]
     },
     "execution_count": 12,
     "metadata": {},
     "output_type": "execute_result"
    }
   ],
   "source": [
    "set(longestWords)"
   ]
  },
  {
   "cell_type": "markdown",
   "metadata": {},
   "source": [
    "### 2. Find the longest sentence in _The Moonstone_. Who is the speaker or narrator of that sentence? "
   ]
  },
  {
   "cell_type": "code",
   "execution_count": 3,
   "metadata": {},
   "outputs": [],
   "source": [
    "moonstoneSents = nltk.sent_tokenize(moonstone)"
   ]
  },
  {
   "cell_type": "code",
   "execution_count": 4,
   "metadata": {},
   "outputs": [],
   "source": [
    "longestSent = \"\"\n",
    "for sent in moonstoneSents:\n",
    "    if len(sent) > len(longestSent):\n",
    "        longestSent = sent"
   ]
  },
  {
   "cell_type": "code",
   "execution_count": 6,
   "metadata": {},
   "outputs": [
    {
     "name": "stdout",
     "output_type": "stream",
     "text": [
      "On this, the disconnected words,\n",
      "and fragments of sentences, which had dropped from Mr. Candy in his\n",
      "delirium, appeared as follows:\n",
      "\n",
      "“… Mr. Franklin Blake … and agreeable … down a peg … medicine …\n",
      "confesses … sleep at night … tell him … out of order … medicine … he\n",
      "tells me … and groping in the dark mean one and the same thing … all the\n",
      "company at the dinner-table … I say … groping after sleep … nothing but\n",
      "medicine … he says … leading the blind … know what it means … witty … a\n",
      "night’s rest in spite of his teeth … wants sleep … Lady Verinder’s\n",
      "medicine chest … five-and-twenty minims … without his knowing it …\n",
      "to-morrow morning … Well, Mr. Blake … medicine to-day … never … without\n",
      "it … out, Mr. Candy … excellent … without it … down on him … truth …\n",
      "something besides … excellent … dose of laudanum, sir … bed … what …\n",
      "medicine now.”\n",
      "\n",
      "There, the first of the two sheets of paper came to an end.\n"
     ]
    }
   ],
   "source": [
    "print(longestSent)"
   ]
  },
  {
   "cell_type": "markdown",
   "metadata": {},
   "source": [
    "### 3. Find the longest ngram in _The Moonstone_ that occurs at least twice. What you do notice about it? "
   ]
  },
  {
   "cell_type": "code",
   "execution_count": 23,
   "metadata": {},
   "outputs": [],
   "source": [
    "longest = \"\"\n",
    "for i in range(100): \n",
    "    moonstoneNgrams = nltk.ngrams(moonstoneTokensClean, i)\n",
    "    mostCommon = collections.Counter(moonstoneNgrams).most_common(1)\n",
    "    numTimes = mostCommon[0][1]\n",
    "    ngram = mostCommon[0][0]\n",
    "    if numTimes >= 2:\n",
    "        if len(ngram) > len(longest):\n",
    "            longest = ngram"
   ]
  },
  {
   "cell_type": "code",
   "execution_count": 25,
   "metadata": {},
   "outputs": [
    {
     "data": {
      "text/plain": [
       "55"
      ]
     },
     "execution_count": 25,
     "metadata": {},
     "output_type": "execute_result"
    }
   ],
   "source": [
    "len(longest)"
   ]
  },
  {
   "cell_type": "code",
   "execution_count": 26,
   "metadata": {},
   "outputs": [
    {
     "data": {
      "text/plain": [
       "('The',\n",
       " 'valuable',\n",
       " 'assistance',\n",
       " 'which',\n",
       " 'you',\n",
       " 'rendered',\n",
       " 'to',\n",
       " 'the',\n",
       " 'inquiry',\n",
       " 'after',\n",
       " 'the',\n",
       " 'lost',\n",
       " 'jewel',\n",
       " 'is',\n",
       " 'still',\n",
       " 'an',\n",
       " 'unpardoned',\n",
       " 'offence',\n",
       " 'in',\n",
       " 'the',\n",
       " 'present',\n",
       " 'dreadful',\n",
       " 'state',\n",
       " 'of',\n",
       " 'Rachel',\n",
       " 's',\n",
       " 'mind',\n",
       " 'Moving',\n",
       " 'blindfold',\n",
       " 'in',\n",
       " 'this',\n",
       " 'matter',\n",
       " 'you',\n",
       " 'have',\n",
       " 'added',\n",
       " 'to',\n",
       " 'the',\n",
       " 'burden',\n",
       " 'of',\n",
       " 'anxiety',\n",
       " 'which',\n",
       " 'she',\n",
       " 'has',\n",
       " 'had',\n",
       " 'to',\n",
       " 'bear',\n",
       " 'by',\n",
       " 'innocently',\n",
       " 'threatening',\n",
       " 'her',\n",
       " 'secret',\n",
       " 'with',\n",
       " 'discovery',\n",
       " 'through',\n",
       " 'your')"
      ]
     },
     "execution_count": 26,
     "metadata": {},
     "output_type": "execute_result"
    }
   ],
   "source": [
    "longest"
   ]
  },
  {
   "cell_type": "markdown",
   "metadata": {},
   "source": [
    "### 4. Find a pattern, of 2-5 words, at least one of which is a part of speech, that occurs at least twice in _The Moonstone_. For example, you might look for JJS-NN (superlative - noun), very-JJ-NNP (\"very\" - adjective - proper noun), or '.'-CC (a period followed by a coordinating conjunction). What do you notice about your findings?"
   ]
  },
  {
   "cell_type": "code",
   "execution_count": 36,
   "metadata": {},
   "outputs": [],
   "source": [
    "def theOtherNoun(tokens): \n",
    "    found = []\n",
    "    \"\"\" Looks for \"the other\" followed by a noun. \"\"\"\n",
    "    tags = nltk.pos_tag(tokens)\n",
    "    trigrams = zip(tags, tags[1:], tags[2:])\n",
    "    \n",
    "    for trigram in trigrams: \n",
    "        if trigram[0][0] == \"the\":\n",
    "            if trigram[1][0] == \"other\":\n",
    "                if trigram[2][1].startswith('N'): \n",
    "                    found.append(trigram)\n",
    "    return collections.Counter(found).most_common(10)"
   ]
  },
  {
   "cell_type": "code",
   "execution_count": 37,
   "metadata": {},
   "outputs": [
    {
     "data": {
      "text/plain": [
       "[((('the', 'DT'), ('other', 'JJ'), ('side', 'NN')), 7),\n",
       " ((('the', 'DT'), ('other', 'JJ'), ('hand', 'NN')), 7),\n",
       " ((('the', 'DT'), ('other', 'JJ'), ('servants', 'NNS')), 6),\n",
       " ((('the', 'DT'), ('other', 'JJ'), ('end', 'NN')), 6),\n",
       " ((('the', 'DT'), ('other', 'JJ'), ('women', 'NNS')), 4),\n",
       " ((('the', 'DT'), ('other', 'JJ'), ('way', 'NN')), 3),\n",
       " ((('the', 'DT'), ('other', 'JJ'), ('ladies', 'NNS')), 2),\n",
       " ((('the', 'DT'), ('other', 'JJ'), ('doors', 'NNS')), 2),\n",
       " ((('the', 'DT'), ('other', 'JJ'), ('officer', 'NN')), 2),\n",
       " ((('the', 'DT'), ('other', 'JJ'), ('sex', 'NN')), 2)]"
      ]
     },
     "execution_count": 37,
     "metadata": {},
     "output_type": "execute_result"
    }
   ],
   "source": [
    "theOtherNoun(moonstoneTokensClean)"
   ]
  },
  {
   "cell_type": "markdown",
   "metadata": {},
   "source": [
    "### 5. Write a couple paragraphs where you describe one or two ideas for a final project. What text(s) will you analyze? What technologies will you use? What literary questions do you hope to answer? This doesn't have to be your final decision. "
   ]
  },
  {
   "cell_type": "markdown",
   "metadata": {},
   "source": [
    "Enter your markdown here. "
   ]
  },
  {
   "cell_type": "markdown",
   "metadata": {},
   "source": [
    "### 6-8. Choose ONE of the following mini-projects to complete. Make sure that in each case, you discuss your results in well-formatted markdown. \n",
    "\n",
    "1. Make a big list of color words using WordNet, and then use that to find the predominant color of \"The Garden Party,\" in terms of color words. Then, in one paragraph, interpret your results in terms of the story. Make a visualization of your results. (You can get the colors right with something like pandas `DataFrame.plot(kind=\"pie\", colormap=\"your-colors-here\")`. You might have to read a little about how to use color maps.)\n",
    "\n",
    "2. Make a function to calculate the ratio of male pronouns to female pronouns. Then use that to test the male/female pronoun ratio of each narrator (you can treat Betteredge's two narratives as one). Create a chart with your results. \n",
    "\n",
    "3. Calculate how proportions of parts of speech are different for each narrator in _The Moonstone_. Do any narrators stand out in their usage of certain parts of speech? Discuss your results, and support your findings with a few examples from the text. Create a bar chart with your results. \n",
    "\n",
    "4. Categorize the nouns (or verbs, or another POS) of _The Moonstone_, by getting their WordNet hypernyms. (Hint: you can get more specific results than just \"entity\" by stopping at a pre-specified `max_depth` or `min_depth`.) Create a visualization with your results. \n",
    "\n",
    "5. Download a few more Collins novels, either manually or programmatically, using [corpus-db.org](http://corpus-db.org). What are the words that appear in _The Moonstone_ more than other novels of Collins's? (Be sure to use frequencies, rather than raw counts.) If you disregard proper names ('NNP' in terms of POS), what are the remaining distinctive words? \n",
    "\n"
   ]
  },
  {
   "cell_type": "code",
   "execution_count": 1,
   "metadata": {},
   "outputs": [],
   "source": [
    "# Write your code here. "
   ]
  },
  {
   "cell_type": "code",
   "execution_count": null,
   "metadata": {},
   "outputs": [],
   "source": []
  }
 ],
 "metadata": {
  "kernelspec": {
   "display_name": "Python 3",
   "language": "python",
   "name": "python3"
  },
  "language_info": {
   "codemirror_mode": {
    "name": "ipython",
    "version": 3
   },
   "file_extension": ".py",
   "mimetype": "text/x-python",
   "name": "python",
   "nbconvert_exporter": "python",
   "pygments_lexer": "ipython3",
   "version": "3.7.3"
  }
 },
 "nbformat": 4,
 "nbformat_minor": 2
}
