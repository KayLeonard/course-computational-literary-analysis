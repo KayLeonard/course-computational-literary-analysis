{
 "cells": [
  {
   "cell_type": "markdown",
   "metadata": {},
   "source": [
    "# Sentiment Analysis\n",
    "\n",
    "Note: here we'll use SpaCy for POS tagging and related tasks, and look up words in SentiWordNet, which is just a lexicon with sentiment scores. We can get it from the NLTK: "
   ]
  },
  {
   "cell_type": "code",
   "execution_count": 70,
   "metadata": {},
   "outputs": [],
   "source": [
    "from nltk.corpus import sentiwordnet as sw\n",
    "import nltk\n",
    "import requests\n",
    "import spacy\n",
    "import pandas as pd\n",
    "%matplotlib inline"
   ]
  },
  {
   "cell_type": "code",
   "execution_count": 29,
   "metadata": {},
   "outputs": [],
   "source": [
    "nlp = spacy.load('en_core_web_lg')"
   ]
  },
  {
   "cell_type": "code",
   "execution_count": 9,
   "metadata": {},
   "outputs": [
    {
     "name": "stderr",
     "output_type": "stream",
     "text": [
      "[nltk_data] Downloading package sentiwordnet to /home/jon/nltk_data...\n",
      "[nltk_data]   Unzipping corpora/sentiwordnet.zip.\n"
     ]
    },
    {
     "data": {
      "text/plain": [
       "True"
      ]
     },
     "execution_count": 9,
     "metadata": {},
     "output_type": "execute_result"
    }
   ],
   "source": [
    "nltk.download('sentiwordnet')"
   ]
  },
  {
   "cell_type": "code",
   "execution_count": 14,
   "metadata": {},
   "outputs": [],
   "source": [
    "awful = list(sw.senti_synsets('terrible', 'a'))[0]"
   ]
  },
  {
   "cell_type": "code",
   "execution_count": 17,
   "metadata": {},
   "outputs": [
    {
     "data": {
      "text/plain": [
       "0.625"
      ]
     },
     "execution_count": 17,
     "metadata": {},
     "output_type": "execute_result"
    }
   ],
   "source": [
    "awful.neg_score()"
   ]
  },
  {
   "cell_type": "code",
   "execution_count": 18,
   "metadata": {},
   "outputs": [
    {
     "data": {
      "text/plain": [
       "0.0"
      ]
     },
     "execution_count": 18,
     "metadata": {},
     "output_type": "execute_result"
    }
   ],
   "source": [
    "awful.pos_score()"
   ]
  },
  {
   "cell_type": "code",
   "execution_count": 19,
   "metadata": {},
   "outputs": [
    {
     "data": {
      "text/plain": [
       "0.375"
      ]
     },
     "execution_count": 19,
     "metadata": {},
     "output_type": "execute_result"
    }
   ],
   "source": [
    "awful.obj_score()"
   ]
  },
  {
   "cell_type": "code",
   "execution_count": 33,
   "metadata": {},
   "outputs": [
    {
     "data": {
      "text/plain": [
       "(0.0, 0.0)"
      ]
     },
     "execution_count": 33,
     "metadata": {},
     "output_type": "execute_result"
    }
   ],
   "source": [
    "bear = list(sw.senti_synsets('bear', 'n'))[0]\n",
    "bear.neg_score(), bear.pos_score()"
   ]
  },
  {
   "cell_type": "code",
   "execution_count": 22,
   "metadata": {},
   "outputs": [],
   "source": [
    "dublinersUrl = 'https://raw.githubusercontent.com/JonathanReeve/course-computational-literary-analysis/gh-pages/_texts/dubliners.md'\n",
    "dublinersRaw = requests.get(dublinersUrl).text"
   ]
  },
  {
   "cell_type": "code",
   "execution_count": 23,
   "metadata": {},
   "outputs": [],
   "source": [
    "dublinersStories = dublinersRaw.split('\\n## ')"
   ]
  },
  {
   "cell_type": "code",
   "execution_count": 26,
   "metadata": {},
   "outputs": [],
   "source": [
    "clay = dublinersStories[10]"
   ]
  },
  {
   "cell_type": "code",
   "execution_count": 34,
   "metadata": {},
   "outputs": [],
   "source": [
    "clayDoc = nlp(clay)"
   ]
  },
  {
   "cell_type": "code",
   "execution_count": 52,
   "metadata": {},
   "outputs": [],
   "source": [
    "lemmaList = []\n",
    "for sent in clayDoc.sents: \n",
    "    sentLemmaList = []\n",
    "    for w in sent: \n",
    "        if (not w.is_stop) and (not w.is_punct) and (not w.is_space) and (w.pos_ is not 'PROPN'): \n",
    "            sentLemmaList.append((w.lemma_, w.pos_))\n",
    "    lemmaList.append(sentLemmaList)"
   ]
  },
  {
   "cell_type": "code",
   "execution_count": 66,
   "metadata": {},
   "outputs": [],
   "source": [
    "sentScores = []\n",
    "for sent in lemmaList: \n",
    "    scores = []\n",
    "    for word, pos in sent: \n",
    "        synPos = pos.lower()[0]\n",
    "        if synPos not in ['a', 'n', 'v']:\n",
    "            continue\n",
    "        synsets = list(sw.senti_synsets(word, synPos))\n",
    "        #print(synsets)\n",
    "        if (type(synsets) == list) and len(synsets)>0:\n",
    "            #print('yay!')\n",
    "            synset = synsets[0]\n",
    "            score = synset.pos_score() - synset.neg_score()\n",
    "            scores.append(score)\n",
    "    if len(scores)>0: \n",
    "        avgScores = sum(scores) / len(scores)\n",
    "        sentScores.append(avgScores)"
   ]
  },
  {
   "cell_type": "code",
   "execution_count": 76,
   "metadata": {},
   "outputs": [
    {
     "data": {
      "text/plain": [
       "<matplotlib.axes._subplots.AxesSubplot at 0x7f97e03a62e8>"
      ]
     },
     "execution_count": 76,
     "metadata": {},
     "output_type": "execute_result"
    },
    {
     "data": {
      "image/png": "[encoded data removed]",
      "text/plain": [
       "<Figure size 432x288 with 1 Axes>"
      ]
     },
     "metadata": {
      "needs_background": "light"
     },
     "output_type": "display_data"
    }
   ],
   "source": [
    "pd.Series(sentScores).rolling(10).mean().plot()"
   ]
  },
  {
   "cell_type": "code",
   "execution_count": 74,
   "metadata": {},
   "outputs": [
    {
     "data": {
      "text/plain": [
       "0.875"
      ]
     },
     "execution_count": 74,
     "metadata": {},
     "output_type": "execute_result"
    }
   ],
   "source": [
    "max(sentScores)"
   ]
  },
  {
   "cell_type": "code",
   "execution_count": 73,
   "metadata": {},
   "outputs": [
    {
     "name": "stdout",
     "output_type": "stream",
     "text": [
      "(CLAY\n",
      "\n",
      ", -0.015625)\n",
      "(THE matron had given her leave to go out as soon as the women's tea was\n",
      "over and Maria looked forward to her evening out., 0.125)\n",
      "(The kitchen was spick\n",
      "and span: the cook said you could see yourself in the big copper\n",
      "boilers., 0.1875)\n",
      "(The fire was nice and bright and on one of the side-tables were\n",
      "four very big barmbracks., 0.03125)\n",
      "(These barmbracks seemed uncut; but if you went\n",
      "closer you would see that they had been cut into long thick even slices\n",
      "and were ready to be handed round at tea., 0.125)\n",
      "(Maria had cut them herself.\n",
      "\n",
      ", -0.1875)\n",
      "(Maria was a very, very small person indeed, 0.0)\n",
      "(but she had a very long nose\n",
      "and a very long chin., -0.125)\n",
      "(She talked a little through her nose, always\n",
      "soothingly:, 0.125)\n",
      "(\"Yes, my dear,\" and \"No, my dear., 0.07142857142857142)\n",
      "(\", 0.08333333333333333)\n",
      "(She was always sent for\n",
      "when the women quarrelled over their tubs and always succeeded in making\n",
      "peace., 0.075)\n",
      "(One day the matron had said to her:\n",
      "\n",
      "\"Maria, you are a veritable peace-maker!, 0.0)\n",
      "(\"\n",
      "\n",
      ", 0.625)\n",
      "(And the sub-matron and two of the Board ladies had heard the compliment.\n",
      ", 0.025)\n",
      "(And Ginger Mooney was always saying what she wouldn't do to the dummy\n",
      "who had charge of the irons if it wasn't for Maria., 0.0)\n",
      "(Everyone was so fond\n",
      "of Maria.\n",
      "\n",
      ", 0.0)\n",
      "(The women would have their tea at six o'clock and she would be able to\n",
      "get away before seven., 0.10416666666666667)\n",
      "(From Ballsbridge to the Pillar, twenty minutes;\n",
      "from the Pillar to Drumcondra, twenty minutes; and twenty minutes to buy\n",
      "the things., 0.0)\n",
      "(She would be there before eight., 0.1)\n",
      "(She took out her purse with\n",
      "the silver clasps and read again the words A Present from Belfast., 0.21875)\n",
      "(She\n",
      "was very fond of that purse because Joe had brought it to her five years\n",
      "before when he and Alphy had gone to Belfast on a Whit-Monday trip., 0.0)\n",
      "(In\n",
      "the purse were two half-crowns and some coppers., 0.20833333333333334)\n",
      "(She would have five\n",
      "shillings clear after paying tram fare., 0.16666666666666666)\n",
      "(What a nice evening they would\n",
      "have, all the children singing!, 0.041666666666666664)\n",
      "(Only she hoped that Joe wouldn't come in\n",
      "drunk., 0.375)\n",
      "(He was so different when he took any drink.\n",
      "\n",
      ", 0.46875)\n",
      "(Often he had wanted her to go and live with them; but she would have\n",
      "felt herself in the way (though Joe's wife was ever so nice with her)\n",
      ", 0.07142857142857142)\n",
      "(and she had become accustomed to the life of the laundry., -0.0375)\n",
      "(Joe was a good\n",
      "fellow., 0.0)\n",
      "(She had nursed him and Alphy too; and Joe used often say:\n",
      "\n",
      "\"Mamma is mamma but Maria is my proper mother., 0.0625)\n",
      "(\"\n",
      "\n",
      ", 0.15625)\n",
      "(After the break-up at home the boys had got her that position in the\n",
      "Dublin by Lamplight laundry, and she liked it., -0.020833333333333332)\n",
      "(She used to have such a\n",
      "bad opinion of Protestants but now she thought they were very nice\n",
      "people, a little quiet and serious, but still very nice people to live\n",
      "with., 0.0625)\n",
      "(Then she had her plants in the conservatory, 0.21428571428571427)\n",
      "(and she liked looking\n",
      "after them., 0.0)\n",
      "(She had lovely ferns and wax-plants, 0.017857142857142856)\n",
      "(and, whenever anyone\n",
      "came to visit her, she always gave the visitor one or two slips from her\n",
      "conservatory., 0.0234375)\n",
      "(There was one thing she didn't like, -0.03571428571428571)\n",
      "(and that was the\n",
      "tracts on the walks; but the matron was such a nice person to deal with,\n",
      "so genteel.\n",
      "\n",
      ", 0.05357142857142857)\n",
      "(When the cook told her everything was ready, 0.075)\n",
      "(she went into the women's\n",
      "room and began to pull the big bell., 0.0)\n",
      "(In a few minutes the women began to\n",
      "come in by twos and threes, wiping their steaming hands in their\n",
      "petticoats and pulling down the sleeves of their blouses over their red\n",
      "steaming arms., -0.06944444444444445)\n",
      "(They settled down before their huge mugs which the cook\n",
      "and the dummy filled up with hot tea, already mixed with milk and sugar\n",
      "in huge tin cans., 0.0)\n",
      "(Maria superintended the distribution of the barmbrack\n",
      "and saw that every woman got her four slices., -0.056818181818181816)\n",
      "(There was a great deal of\n",
      "laughing and joking during the meal., -0.08333333333333333)\n",
      "(Lizzie Fleming said Maria was sure\n",
      "to get the ring and, though Fleming had said that for so many Hallow\n",
      "Eves, Maria had to laugh and say she didn't want any ring or man either;\n",
      ", 0.0)\n",
      "(and when she laughed her grey-green eyes sparkled with disappointed\n",
      "shyness and the tip of her nose, 0.0)\n",
      "(nearly met the tip of her chin., -0.045454545454545456)\n",
      "(Then\n",
      "Ginger Mooney lifted her mug of tea and proposed Maria's health while\n",
      "all the other women clattered with their mugs on the table, and said she\n",
      "was sorry, 0.022727272727272728)\n",
      "(she hadn't a sup of porter to drink it in., 0.05357142857142857)\n",
      "(And Maria laughed\n",
      "again till the tip of her nose nearly met the tip of her chin and till\n",
      "her minute body nearly shook itself asunder because she knew that Mooney\n",
      "meant well though, 0.0)\n",
      "(, of course, she had the notions of a common woman.\n",
      "\n",
      ", 0.20833333333333334)\n",
      "(But wasn't Maria glad when the women had finished their tea and the cook\n",
      "and the dummy had begun to clear away the tea-things!, -0.05357142857142857)\n",
      "(She went into her\n",
      "little bedroom and, remembering that the next morning was a mass\n",
      "morning, changed the hand of the alarm from seven to six., 0.1)\n",
      "(Then she took\n",
      "off her working skirt and her house-boots and laid her best skirt out on\n",
      "the bed and her tiny dress-boots beside the foot of the bed., -0.1875)\n",
      "(She changed\n",
      "her blouse too and, as she stood before the mirror, she thought of how\n",
      "she used to dress for mass on Sunday morning when she was a young girl;\n",
      ", -0.125)\n",
      "(and she looked with quaint affection at the diminutive body which she\n",
      "had so often adorned., 0.140625)\n",
      "(In spite of its years she found it a nice tidy\n",
      "little body.\n",
      "\n",
      ", 0.2916666666666667)\n",
      "(When she got outside the streets were shining with rain, -0.25)\n",
      "(and she was glad\n",
      "of her old brown waterproof., -0.20833333333333334)\n",
      "(The tram was full and she had to sit on the\n",
      "little stool at the end of the car, facing all the people, with her toes\n",
      "barely touching the floor., 0.0)\n",
      "(She arranged in her mind all she was going to\n",
      "do and thought how much better it was to be independent and to have your\n",
      "own money in your pocket., 0.125)\n",
      "(She hoped they would have a nice evening., 0.375)\n",
      "(She\n",
      "was sure they would, 0.0)\n",
      "(but she could not help thinking what a pity, 0.025)\n",
      "(it was\n",
      "Alphy and Joe were not speaking., 0.0)\n",
      "(They were always falling out now, 0.0)\n",
      "(but\n",
      "when they were boys together they used to be the best of friends: but\n",
      ", -0.0375)\n",
      "(such was life.\n",
      "\n",
      ", 0.225)\n",
      "(She got out of her tram at the Pillar and ferreted her way quickly among\n",
      "the crowds., -0.1875)\n",
      "(She went into Downes's cake-shop, -0.15)\n",
      "(but the shop was so full of\n",
      "people that it was a long time before she could get herself attended to.\n",
      ", 0.0)\n",
      "(She bought a dozen of mixed penny cakes, and at last came out of the\n",
      "shop laden with a big bag., 0.0)\n",
      "(Then she thought what else would she buy: she\n",
      "wanted to buy something really nice., 0.0)\n",
      "(They would be sure to have plenty\n",
      "of apples and nuts., 0.0125)\n",
      "(It was hard to know what to buy and all she could\n",
      "think of was cake., 0.0)\n",
      "(She decided to buy some plumcake, 0.125)\n",
      "(but Downes's\n",
      "plumcake had not enough almond icing on top of it, 0.0625)\n",
      "(so she went over to a\n",
      "shop in Henry Street., 0.06944444444444445)\n",
      "(Here she was a long time in suiting herself and\n",
      "the stylish young lady behind the counter, who was evidently a little\n",
      "annoyed by her, asked her was it, -0.045454545454545456)\n",
      "(wedding-cake, 0.0375)\n",
      "(she wanted to buy., 0.025)\n",
      "(That\n",
      "made Maria blush and smile at the young lady; but the young lady took it\n",
      "all very seriously and finally cut a thick slice of plumcake, parcelled\n",
      "it up and said:\n",
      "\n",
      "\"Two-and-four, please., 0.06818181818181818)\n",
      "(\"\n",
      "\n",
      ", 0.05)\n",
      "(She thought she would have to stand in the Drumcondra tram because none\n",
      "of the young men seemed to notice her but an elderly gentleman made room\n",
      "for her., 0.06875)\n",
      "(He was a stout gentleman and he wore a brown hard hat; he had a\n",
      "square red face and a greyish moustache., 0.0)\n",
      "(Maria thought he was a\n",
      "colonel-looking gentleman and she reflected how much more polite he was\n",
      "than the young men who simply stared straight before them., 0.041666666666666664)\n",
      "(The gentleman\n",
      "began to chat with her about Hallow Eve and the rainy weather., 0.025)\n",
      "(He\n",
      "supposed the bag was full of good things for the little ones and said it\n",
      "was only right that the youngsters should enjoy themselves while they\n",
      "were young., -0.05)\n",
      "(Maria agreed with him and favoured him with demure nods and\n",
      "hems., 0.125)\n",
      "(He was very nice with her, and when she was getting out at the\n",
      "Canal Bridge she thanked him and bowed, and he bowed to her and raised\n",
      "his hat and smiled agreeably, and while she was going up along the\n",
      "terrace, bending her tiny head under the rain, she thought how easy it\n",
      "was to know a gentleman even when he has a drop taken.\n",
      "\n",
      ", 0.08333333333333333)\n",
      "(Everybody said: \"O, here's Maria!\" when she came to Joe's house., -0.125)\n",
      "(Joe was\n",
      "there, having come home from business, and all the children had their\n",
      "Sunday dresses on., 0.0)\n",
      "(There were two big girls in from next door and games\n",
      "were going on., -0.07692307692307693)\n",
      "(Maria gave the bag of cakes to the eldest boy, Alphy, to\n",
      "divide and, 0.125)\n",
      "(Mrs. Donnelly said it was too good of her to bring such a big\n",
      "bag of cakes and made all the children say:\n",
      "\n",
      ", 0.15625)\n",
      "(\"Thanks, Maria., -0.19444444444444445)\n",
      "(\"\n",
      "\n",
      ", -0.05555555555555555)\n",
      "(But Maria said she had brought something special for papa and mamma,\n",
      "something they would be sure to like, and she began to look for her\n",
      "plumcake., 0.0)\n",
      "(She tried in Downes's bag and then in the pockets of her\n",
      "waterproof and then on the hallstand but, 0.875)\n",
      "(nowhere could she find it., 0.07142857142857142)\n",
      "(Then\n",
      "she asked all the children had any of them eaten it---by mistake, of\n",
      "course---but the children all said no and looked as if they did not like\n",
      "to eat cakes if they were to be accused of stealing., 0.125)\n",
      "(Everybody had a\n",
      "solution for the mystery and, 0.025)\n",
      "(Mrs. Donnelly said it was plain that Maria\n",
      "had left it behind her in the tram., -0.041666666666666664)\n",
      "(Maria, remembering how confused the\n",
      "gentleman with the greyish moustache had made her, coloured with shame\n",
      "and vexation and disappointment., 0.0)\n",
      "(At the thought of the failure of her\n",
      "little surprise and of the two and fourpence she had thrown away for\n",
      "nothing she nearly cried outright.\n",
      "\n",
      ", -0.03125)\n",
      "(But Joe said it didn't matter and made her sit down by the fire., 0.0)\n",
      "(He was\n",
      "very nice with her., -0.09375)\n",
      "(He told her all that went on in his office,\n",
      "repeating for her a smart answer which he had made to the manager., 0.0)\n",
      "(Maria\n",
      "did not understand why Joe laughed so much over the answer he had made\n",
      ", 0.175)\n",
      "(but she said that the manager must have been a very overbearing person\n",
      "to deal with., -0.08333333333333333)\n",
      "(Joe said he wasn't so bad when you knew how to take him,\n",
      "that he was a decent sort so long as you didn't rub him the wrong way.\n",
      ", 0.0)\n",
      "(Mrs. Donnelly played the piano for the children and they danced and\n",
      "sang., 0.075)\n",
      "(Then the two next-door girls handed round the nuts., 0.25)\n",
      "(Nobody could\n",
      "find the nutcrackers and Joe was nearly getting cross over it and asked\n",
      "how did they expect Maria to crack nuts without a nutcracker., -0.10714285714285714)\n",
      "(But Maria\n",
      "said she didn't like nuts and that they weren't to bother about her.\n",
      ", -0.1875)\n",
      "(Then Joe asked would she take a bottle of stout and, -0.1875)\n",
      "(Mrs. Donnelly said\n",
      "there was port wine too in the house if she would prefer that., 0.0)\n",
      "(Maria\n",
      "said she would rather they didn't ask her to take anything: but Joe\n",
      "insisted.\n",
      "\n",
      ", 0.0)\n",
      "(So Maria let him have his way, 0.0)\n",
      "(and they sat by the fire talking over old\n",
      "times and, -0.027777777777777776)\n",
      "(Maria thought she would put in a good word for Alphy., 0.15)\n",
      "(But Joe\n",
      "cried that God might strike him stone dead if ever he spoke a word to\n",
      "his brother again and, 0.2916666666666667)\n",
      "(Maria said she was sorry she had mentioned the\n",
      "matter., 0.25)\n",
      "(Mrs. Donnelly told her husband it was a great shame for him to\n",
      ", 0.0)\n",
      "(speak that way of his own flesh and blood, 0.017857142857142856)\n",
      "(but Joe said that Alphy was no\n",
      "brother of his, -0.009615384615384616)\n",
      "(and there was nearly being a row on the head of it., 0.125)\n",
      "(But\n",
      "Joe said he would not lose his temper on account of the night it was and\n",
      "asked his wife to open some more stout., 0.1)\n",
      "(The two next-door girls had\n",
      "arranged some Hallow Eve games and soon everything was merry again.\n",
      ", -0.06944444444444445)\n",
      "(Maria was delighted to see the children so merry and, 0.025)\n",
      "(Joe and his wife in\n",
      "such good spirits., 0.0)\n",
      "(The next-door girls put some saucers on the table and\n",
      "then led the children up to the table, blindfold., -0.08333333333333333)\n",
      "(One got the\n",
      "prayer-book and the other three got the water; and when one of the\n",
      "next-door girls got the ring Mrs. Donnelly shook her finger at the\n",
      "blushing girl as much as to say: O, I know all about it!, 0.03125)\n",
      "(They insisted\n",
      "then on blindfolding Maria and leading her up to the table to see what\n",
      "she would get; and, while they were putting on the bandage, Maria\n",
      "laughed and laughed again till the tip of her nose nearly met the tip of\n",
      "her chin.\n",
      "\n",
      ", 0.0)\n",
      "(They led her up to the table amid laughing and joking and she put her\n",
      "hand out in the air as she was told to do., 0.09375)\n",
      "(She moved her hand about here\n",
      "and there in the air and descended on one of the saucers., 0.20833333333333334)\n",
      "(She felt a\n",
      "soft wet substance with her fingers and was surprised that nobody spoke\n",
      "or took off her bandage., 0.375)\n",
      "(There was a pause for a few seconds; and then a\n",
      "great deal of scuffling and whispering., 0.022727272727272728)\n",
      "(Somebody said something about\n",
      "the garden, and at last Mrs. Donnelly said something very cross to one\n",
      "of the next-door girls and told her to throw it out at once: that was no\n",
      "play., 0.0)\n",
      "(Maria understood that it was wrong that time, -0.1)\n",
      "(and so she had to do\n",
      "it over again:, -0.013888888888888888)\n",
      "(and this time she got the prayer-book.\n",
      "\n",
      ", 0.0)\n",
      "(After that Mrs. Donnelly played Miss McCloud's Reel for the children and\n",
      "Joe made Maria take a glass of wine., -0.020833333333333332)\n",
      "(Soon they were all quite merry\n",
      "again and Mrs. Donnelly said Maria would enter a convent before the year\n",
      "was out because she had got the prayer-book., -0.020833333333333332)\n",
      "(Maria had never seen Joe so\n",
      "nice to her as he was that night, so full of pleasant talk and\n",
      "reminiscences., 0.1875)\n",
      "(She said they were all very good to her.\n",
      "\n",
      ", -0.041666666666666664)\n",
      "(At last the children grew tired and sleepy and Joe asked Maria would she\n",
      "not sing some little song before she went, one of the old songs.\n",
      ", 0.25)\n",
      "(Mrs. Donnelly said \"Do, please, Maria!\" and so Maria had to get up and\n",
      "stand beside the piano., 0.5)\n",
      "(Mrs. Donnelly bade the children be quiet and\n",
      "listen to Maria's song., -0.125)\n",
      "(Then she played the prelude and said \"Now,\n",
      "Maria!\" and Maria, blushing very much began to sing in a tiny quavering\n",
      "voice., -0.04861111111111111)\n",
      "(She sang, 0.0)\n"
     ]
    }
   ],
   "source": [
    "for pair in zip(clayDoc.sents, sentScores):\n",
    "    print(pair)"
   ]
  },
  {
   "cell_type": "code",
   "execution_count": null,
   "metadata": {},
   "outputs": [],
   "source": []
  }
 ],
 "metadata": {
  "kernelspec": {
   "display_name": "Python 3",
   "language": "python",
   "name": "python3"
  },
  "language_info": {
   "codemirror_mode": {
    "name": "ipython",
    "version": 3
   },
   "file_extension": ".py",
   "mimetype": "text/x-python",
   "name": "python",
   "nbconvert_exporter": "python",
   "pygments_lexer": "ipython3",
   "version": "3.7.3"
  }
 },
 "nbformat": 4,
 "nbformat_minor": 2
}
