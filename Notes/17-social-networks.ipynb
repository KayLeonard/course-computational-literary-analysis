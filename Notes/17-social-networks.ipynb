{
 "cells": [
  {
   "cell_type": "markdown",
   "metadata": {},
   "source": [
    "# \"Social Network\" Analysis\n",
    "\n",
    "Define:\n",
    "\n",
    " - Nodes. This could be characters, parts of speech, syntactic elements, artifacts, whatever you like. \n",
    " - Edges. These are relations between the nodes. They can either be directed or undirected. "
   ]
  },
  {
   "cell_type": "code",
   "execution_count": 18,
   "metadata": {},
   "outputs": [],
   "source": [
    "import networkx as nx\n",
    "import spacy\n",
    "from itertools import combinations\n",
    "import collections\n",
    "%matplotlib inline"
   ]
  },
  {
   "cell_type": "code",
   "execution_count": 2,
   "metadata": {},
   "outputs": [],
   "source": [
    "nlp = spacy.load('en_core_web_lg')"
   ]
  },
  {
   "cell_type": "code",
   "execution_count": 4,
   "metadata": {},
   "outputs": [],
   "source": [
    "moonstone = open('../Texts/moonstone.md').read()"
   ]
  },
  {
   "cell_type": "code",
   "execution_count": 5,
   "metadata": {},
   "outputs": [],
   "source": [
    "moonstoneParts = moonstone.split('\\n## ')"
   ]
  },
  {
   "cell_type": "code",
   "execution_count": 6,
   "metadata": {},
   "outputs": [],
   "source": [
    "bet, x, clack, bruff, blake = moonstoneParts[2:7]"
   ]
  },
  {
   "cell_type": "code",
   "execution_count": 7,
   "metadata": {},
   "outputs": [],
   "source": [
    "betParas = bet.split('\\n\\n')"
   ]
  },
  {
   "cell_type": "code",
   "execution_count": 8,
   "metadata": {},
   "outputs": [
    {
     "data": {
      "text/plain": [
       "1295"
      ]
     },
     "execution_count": 8,
     "metadata": {},
     "output_type": "execute_result"
    }
   ],
   "source": [
    "len(betParas)"
   ]
  },
  {
   "cell_type": "code",
   "execution_count": 55,
   "metadata": {},
   "outputs": [],
   "source": [
    "combs = list(combinations(names, 2))"
   ]
  },
  {
   "cell_type": "code",
   "execution_count": 56,
   "metadata": {},
   "outputs": [],
   "source": [
    "names = ['Betteredge', 'Rachel', 'Franklin', 'Rosanna', 'Cuff', 'Diamond', 'Moonstone']"
   ]
  },
  {
   "cell_type": "code",
   "execution_count": 9,
   "metadata": {},
   "outputs": [],
   "source": [
    "betParsDocs = [nlp(para) for para in betParas]"
   ]
  },
  {
   "cell_type": "code",
   "execution_count": 11,
   "metadata": {},
   "outputs": [],
   "source": [
    "betParsEntities = [para.ents for para in betParsDocs]"
   ]
  },
  {
   "cell_type": "code",
   "execution_count": 13,
   "metadata": {},
   "outputs": [],
   "source": [
    "betDoc = nlp(bet)"
   ]
  },
  {
   "cell_type": "code",
   "execution_count": 77,
   "metadata": {},
   "outputs": [],
   "source": [
    "betEnts = [doc.text for doc in betDoc.ents if doc.text != '###' and doc.label_ == 'GPE']"
   ]
  },
  {
   "cell_type": "code",
   "execution_count": 79,
   "metadata": {},
   "outputs": [
    {
     "data": {
      "text/plain": [
       "['Yorkshire',\n",
       " 'India',\n",
       " 'Yorkshire',\n",
       " 'England',\n",
       " 'Providence',\n",
       " 'London',\n",
       " 'England',\n",
       " 'England',\n",
       " 'Germany',\n",
       " 'England',\n",
       " 'Germany',\n",
       " 'England',\n",
       " 'London',\n",
       " 'London',\n",
       " 'London',\n",
       " 'Yorkshire',\n",
       " 'Yorkshire',\n",
       " 'London',\n",
       " 'London',\n",
       " 'India',\n",
       " 'England',\n",
       " 'India',\n",
       " 'England',\n",
       " 'India',\n",
       " 'England',\n",
       " 'London',\n",
       " 'England',\n",
       " 'London',\n",
       " 'London',\n",
       " 'India',\n",
       " 'India',\n",
       " 'England',\n",
       " 'France',\n",
       " 'India',\n",
       " 'Amsterdam',\n",
       " 'Amsterdam',\n",
       " 'London',\n",
       " 'England',\n",
       " 'Holland',\n",
       " 'Germany',\n",
       " 'London',\n",
       " 'England',\n",
       " 'London',\n",
       " 'London',\n",
       " 'London',\n",
       " 'England',\n",
       " 'London',\n",
       " 'England',\n",
       " 'China',\n",
       " 'India',\n",
       " 'England',\n",
       " 'India',\n",
       " 'England',\n",
       " 'ma’am',\n",
       " 'England',\n",
       " 'London',\n",
       " 'London',\n",
       " 'India',\n",
       " 'Amsterdam',\n",
       " 'London',\n",
       " 'London',\n",
       " 'London',\n",
       " 'London',\n",
       " 'London',\n",
       " 'London',\n",
       " 'England',\n",
       " 'London',\n",
       " 'London',\n",
       " 'London',\n",
       " 'London',\n",
       " 'London',\n",
       " 'Yorkshire',\n",
       " 'ma’am',\n",
       " 'Yorkshire',\n",
       " 'Yolland',\n",
       " 'London',\n",
       " 'London',\n",
       " 'London',\n",
       " 'London',\n",
       " 'England',\n",
       " 'London',\n",
       " 'London',\n",
       " 'London',\n",
       " 'Middlesex',\n",
       " 'Lambeth',\n",
       " 'London',\n",
       " 'London',\n",
       " 'London',\n",
       " 'London',\n",
       " 'England',\n",
       " 'London',\n",
       " 'London',\n",
       " 'London',\n",
       " 'London',\n",
       " 'London',\n",
       " 'London',\n",
       " 'London',\n",
       " 'London',\n",
       " 'England',\n",
       " 'America',\n",
       " 'England',\n",
       " 'London',\n",
       " 'London',\n",
       " 'London',\n",
       " 'India',\n",
       " 'London',\n",
       " 'London',\n",
       " 'London']"
      ]
     },
     "execution_count": 79,
     "metadata": {},
     "output_type": "execute_result"
    }
   ],
   "source": [
    "betEnts"
   ]
  },
  {
   "cell_type": "code",
   "execution_count": 80,
   "metadata": {},
   "outputs": [],
   "source": [
    "pairs = list(combinations([item[0] for item in collections.Counter(betEnts).most_common(30)], 2))"
   ]
  },
  {
   "cell_type": "code",
   "execution_count": 81,
   "metadata": {},
   "outputs": [],
   "source": [
    "names = [item[0] for item in collections.Counter(betEnts).most_common(30)]"
   ]
  },
  {
   "cell_type": "code",
   "execution_count": 82,
   "metadata": {},
   "outputs": [],
   "source": [
    "def countPairsInParas(docParas, pairs):\n",
    "    counter = {comb: 0 for comb in pairs}\n",
    "    for para in docParas: \n",
    "        for pair in pairs: \n",
    "            if pair[0] in para.text and pair[1] in para.text: \n",
    "                counter[pair] += 1\n",
    "    return counter"
   ]
  },
  {
   "cell_type": "code",
   "execution_count": 83,
   "metadata": {},
   "outputs": [],
   "source": [
    "pairCounter = countPairsInParas(betParsDocs, pairs)"
   ]
  },
  {
   "cell_type": "code",
   "execution_count": 84,
   "metadata": {},
   "outputs": [],
   "source": [
    "namesTuples = [(pair[0], pair[1], n) \n",
    "               for pair, n in pairCounter.items()]"
   ]
  },
  {
   "cell_type": "code",
   "execution_count": 85,
   "metadata": {},
   "outputs": [],
   "source": [
    "socialGraph = nx.Graph()"
   ]
  },
  {
   "cell_type": "code",
   "execution_count": 86,
   "metadata": {},
   "outputs": [],
   "source": [
    "socialGraph.add_nodes_from(names)"
   ]
  },
  {
   "cell_type": "code",
   "execution_count": 87,
   "metadata": {},
   "outputs": [],
   "source": [
    "socialGraph.add_weighted_edges_from(namesTuples)"
   ]
  },
  {
   "cell_type": "code",
   "execution_count": 90,
   "metadata": {},
   "outputs": [
    {
     "data": {
      "image/png": "[encoded data removed]",
      "text/plain": [
       "<Figure size 432x288 with 1 Axes>"
      ]
     },
     "metadata": {
      "needs_background": "light"
     },
     "output_type": "display_data"
    }
   ],
   "source": [
    "weightsOnly = [t[2] for t in namesTuples]\n",
    "nx.draw_networkx(socialGraph, \n",
    "                 width=weightsOnly,\n",
    "                 alpha=0.6, edge_color='blue', figsize=(12,8))"
   ]
  },
  {
   "cell_type": "code",
   "execution_count": 89,
   "metadata": {},
   "outputs": [],
   "source": [
    "def aliases(titleFirstLast): \n",
    "    \"\"\" Generates aliases for name. \n",
    "    Given 'Rosanna Spearman,' returns Miss Rosanna, Miss Spearman, etc. \"\"\"\n",
    "    title, first, last = titleFirstLast.split(' ')\n",
    "    return [first, first + ' ' + last, last, title + ' ' + last, title + ' ' + first]\n",
    "    "
   ]
  },
  {
   "cell_type": "code",
   "execution_count": 57,
   "metadata": {},
   "outputs": [
    {
     "data": {
      "text/plain": [
       "['Rosanna', 'Rosanna Spearman', 'Spearman', 'Miss Spearman', 'Miss Rosanna']"
      ]
     },
     "execution_count": 57,
     "metadata": {},
     "output_type": "execute_result"
    }
   ],
   "source": [
    "aliases(\"Miss Rosanna Spearman\")"
   ]
  },
  {
   "cell_type": "code",
   "execution_count": 60,
   "metadata": {},
   "outputs": [],
   "source": [
    "chars = ['Miss Rosanna Spearman', 'Mr. Gabriel Betteredge', 'Mr. Franklin Blake', \n",
    "         'Miss Rachel Verinder', 'Lady Julia Verinder', 'Mr. Ezra Jennings']"
   ]
  },
  {
   "cell_type": "code",
   "execution_count": 64,
   "metadata": {},
   "outputs": [],
   "source": [
    "charAliases = {aliases(char)[0]: aliases(char) for char in chars}"
   ]
  },
  {
   "cell_type": "code",
   "execution_count": 65,
   "metadata": {},
   "outputs": [],
   "source": [
    "def normalizeName(name): \n",
    "    for pair in charAliases.items(): \n",
    "        normalized = pair[0]\n",
    "        listOfAliases = pair[1]\n",
    "        if name in listOfAliases: \n",
    "            return normalized\n",
    "        "
   ]
  },
  {
   "cell_type": "code",
   "execution_count": 66,
   "metadata": {},
   "outputs": [
    {
     "data": {
      "text/plain": [
       "'Rosanna'"
      ]
     },
     "execution_count": 66,
     "metadata": {},
     "output_type": "execute_result"
    }
   ],
   "source": [
    "normalizeName('Rosanna Spearman')"
   ]
  },
  {
   "cell_type": "code",
   "execution_count": 67,
   "metadata": {},
   "outputs": [
    {
     "data": {
      "text/plain": [
       "'Franklin'"
      ]
     },
     "execution_count": 67,
     "metadata": {},
     "output_type": "execute_result"
    }
   ],
   "source": [
    "normalizeName('Mr. Blake')"
   ]
  },
  {
   "cell_type": "code",
   "execution_count": null,
   "metadata": {},
   "outputs": [],
   "source": []
  }
 ],
 "metadata": {
  "kernelspec": {
   "display_name": "Python 3",
   "language": "python",
   "name": "python3"
  },
  "language_info": {
   "codemirror_mode": {
    "name": "ipython",
    "version": 3
   },
   "file_extension": ".py",
   "mimetype": "text/x-python",
   "name": "python",
   "nbconvert_exporter": "python",
   "pygments_lexer": "ipython3",
   "version": "3.7.3"
  }
 },
 "nbformat": 4,
 "nbformat_minor": 2
}
