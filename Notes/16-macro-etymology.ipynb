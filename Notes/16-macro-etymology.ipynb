{
 "cells": [
  {
   "cell_type": "markdown",
   "metadata": {
    "colab_type": "text",
    "id": "Wn1rf5XUA-Ji"
   },
   "source": [
    "# Macro-Etymological Analysis\n",
    "\n",
    "This is a method for analyzing the language histories of the words in a text. There's not a lot written about it, but I write about it (and show an example analysis) [here in this chapter of _Reading Modernism with Machines_](https://link.springer.com/chapter/10.1057/978-1-137-59569-0_9). (The link is unfortunately behind a paywall, but you can find a preprint of it [here on my blog](https://jonreeve.com/2015/05/macroetymology-of-portrait-paper/).) \n",
    "\n",
    "In short: it finds the etymologies for each word in a text, like this one from Wiktionary for \"more\":  \n",
    "\n",
    "From Middle English more, from Old English māra (“more”), from Proto-Germanic *maizô (“more”), from Proto-Indo-European *mē- (“many”).\n",
    "\n",
    "Ordinarily `macroetym` is a command-line program, but since it's written in Python, we can use it as a module without much effort. First we should get a copy of the software right from the source, since I haven't gotten around to fixing the version on PyPi yet: "
   ]
  },
  {
   "cell_type": "code",
   "execution_count": null,
   "metadata": {
    "colab": {
     "base_uri": "https://localhost:8080/",
     "height": 102
    },
    "colab_type": "code",
    "id": "pCB2_OUvWqis",
    "outputId": "34b2bc0a-c39a-4f66-b50f-9b914a254837"
   },
   "outputs": [
    {
     "name": "stdout",
     "output_type": "stream",
     "text": [
      "Cloning into 'macro-etym'...\n",
      "remote: Enumerating objects: 387, done.\u001b[K\n",
      "remote: Total 387 (delta 0), reused 0 (delta 0), pack-reused 387\u001b[K\n",
      "Receiving objects: 100% (387/387), 11.83 MiB | 13.89 MiB/s, done.\n",
      "Resolving deltas: 100% (209/209), done.\n"
     ]
    }
   ],
   "source": [
    "!git clone https://github.com/JonathanReeve/macro-etym.git"
   ]
  },
  {
   "cell_type": "code",
   "execution_count": null,
   "metadata": {
    "colab": {
     "base_uri": "https://localhost:8080/",
     "height": 459
    },
    "colab_type": "code",
    "id": "S2do2yF4W6P1",
    "outputId": "3cb5fcb3-ff7f-477c-9bec-0b65e23fe3c8"
   },
   "outputs": [
    {
     "name": "stdout",
     "output_type": "stream",
     "text": [
      "Processing ./macro-etym\n",
      "Requirement already satisfied: Click in /usr/local/lib/python3.6/dist-packages (from macroetym==0.1.2) (7.0)\n",
      "Requirement already satisfied: nltk in /usr/local/lib/python3.6/dist-packages (from macroetym==0.1.2) (3.2.5)\n",
      "Collecting pycountry (from macroetym==0.1.2)\n",
      "\u001b[?25l  Downloading https://files.pythonhosted.org/packages/eb/50/89454c228d540dd08f8a2bf694d84f671e8c893fffaa937037a1c4e562aa/pycountry-19.7.15.tar.gz (10.0MB)\n",
      "\u001b[K     |████████████████████████████████| 10.0MB 2.7MB/s \n",
      "\u001b[?25hRequirement already satisfied: pandas in /usr/local/lib/python3.6/dist-packages (from macroetym==0.1.2) (0.24.2)\n",
      "Requirement already satisfied: matplotlib in /usr/local/lib/python3.6/dist-packages (from macroetym==0.1.2) (3.0.3)\n",
      "Requirement already satisfied: six in /usr/local/lib/python3.6/dist-packages (from nltk->macroetym==0.1.2) (1.12.0)\n",
      "Requirement already satisfied: python-dateutil>=2.5.0 in /usr/local/lib/python3.6/dist-packages (from pandas->macroetym==0.1.2) (2.5.3)\n",
      "Requirement already satisfied: pytz>=2011k in /usr/local/lib/python3.6/dist-packages (from pandas->macroetym==0.1.2) (2018.9)\n",
      "Requirement already satisfied: numpy>=1.12.0 in /usr/local/lib/python3.6/dist-packages (from pandas->macroetym==0.1.2) (1.16.4)\n",
      "Requirement already satisfied: pyparsing!=2.0.4,!=2.1.2,!=2.1.6,>=2.0.1 in /usr/local/lib/python3.6/dist-packages (from matplotlib->macroetym==0.1.2) (2.4.2)\n",
      "Requirement already satisfied: cycler>=0.10 in /usr/local/lib/python3.6/dist-packages (from matplotlib->macroetym==0.1.2) (0.10.0)\n",
      "Requirement already satisfied: kiwisolver>=1.0.1 in /usr/local/lib/python3.6/dist-packages (from matplotlib->macroetym==0.1.2) (1.1.0)\n",
      "Requirement already satisfied: setuptools in /usr/local/lib/python3.6/dist-packages (from kiwisolver>=1.0.1->matplotlib->macroetym==0.1.2) (41.0.1)\n",
      "Building wheels for collected packages: macroetym, pycountry\n",
      "  Building wheel for macroetym (setup.py) ... \u001b[?25l\u001b[?25hdone\n",
      "  Created wheel for macroetym: filename=macroetym-0.1.2-cp36-none-any.whl size=11334097 sha256=04951e50b15b48308c4637385e381bed22d157df8efe87903cc8a027b0876875\n",
      "  Stored in directory: /root/.cache/pip/wheels/86/a5/0a/97de412c84e9359fe6f203a1fd178df91ce299a0297c534d4f\n",
      "  Building wheel for pycountry (setup.py) ... \u001b[?25l\u001b[?25hdone\n",
      "  Created wheel for pycountry: filename=pycountry-19.7.15-py2.py3-none-any.whl size=10627300 sha256=17067a6f7fa2f3eab707e5eed284be15fcdec1e05f4e031726fe20065b84f511\n",
      "  Stored in directory: /root/.cache/pip/wheels/d8/ec/a8/fccfbe963e033bb1c4413b238a32be8c821f5a16595ec00d2a\n",
      "Successfully built macroetym pycountry\n",
      "Installing collected packages: pycountry, macroetym\n",
      "Successfully installed macroetym-0.1.2 pycountry-19.7.15\n"
     ]
    }
   ],
   "source": [
    "!pip install ./macro-etym"
   ]
  },
  {
   "cell_type": "code",
   "execution_count": null,
   "metadata": {
    "colab": {},
    "colab_type": "code",
    "id": "eagm-DVFW9L_"
   },
   "outputs": [],
   "source": [
    "import macroetym\n",
    "from macroetym.main import Text\n",
    "import requests\n",
    "import json\n",
    "import nltk\n",
    "import pandas as pd"
   ]
  },
  {
   "cell_type": "code",
   "execution_count": null,
   "metadata": {
    "colab": {
     "base_uri": "https://localhost:8080/",
     "height": 1000
    },
    "colab_type": "code",
    "id": "_47u1RX5BZYe",
    "outputId": "61e6f767-39dc-4d37-f8ee-f8087bea1cbc"
   },
   "outputs": [
    {
     "name": "stdout",
     "output_type": "stream",
     "text": [
      "[nltk_data] Downloading collection 'book'\n",
      "[nltk_data]    | \n",
      "[nltk_data]    | Downloading package abc to /root/nltk_data...\n",
      "[nltk_data]    |   Unzipping corpora/abc.zip.\n",
      "[nltk_data]    | Downloading package brown to /root/nltk_data...\n",
      "[nltk_data]    |   Unzipping corpora/brown.zip.\n",
      "[nltk_data]    | Downloading package chat80 to /root/nltk_data...\n",
      "[nltk_data]    |   Unzipping corpora/chat80.zip.\n",
      "[nltk_data]    | Downloading package cmudict to /root/nltk_data...\n",
      "[nltk_data]    |   Unzipping corpora/cmudict.zip.\n",
      "[nltk_data]    | Downloading package conll2000 to /root/nltk_data...\n",
      "[nltk_data]    |   Unzipping corpora/conll2000.zip.\n",
      "[nltk_data]    | Downloading package conll2002 to /root/nltk_data...\n",
      "[nltk_data]    |   Unzipping corpora/conll2002.zip.\n",
      "[nltk_data]    | Downloading package dependency_treebank to\n",
      "[nltk_data]    |     /root/nltk_data...\n",
      "[nltk_data]    |   Unzipping corpora/dependency_treebank.zip.\n",
      "[nltk_data]    | Downloading package genesis to /root/nltk_data...\n",
      "[nltk_data]    |   Unzipping corpora/genesis.zip.\n",
      "[nltk_data]    | Downloading package gutenberg to /root/nltk_data...\n",
      "[nltk_data]    |   Unzipping corpora/gutenberg.zip.\n",
      "[nltk_data]    | Downloading package ieer to /root/nltk_data...\n",
      "[nltk_data]    |   Unzipping corpora/ieer.zip.\n",
      "[nltk_data]    | Downloading package inaugural to /root/nltk_data...\n",
      "[nltk_data]    |   Unzipping corpora/inaugural.zip.\n",
      "[nltk_data]    | Downloading package movie_reviews to\n",
      "[nltk_data]    |     /root/nltk_data...\n",
      "[nltk_data]    |   Unzipping corpora/movie_reviews.zip.\n",
      "[nltk_data]    | Downloading package nps_chat to /root/nltk_data...\n",
      "[nltk_data]    |   Unzipping corpora/nps_chat.zip.\n",
      "[nltk_data]    | Downloading package names to /root/nltk_data...\n",
      "[nltk_data]    |   Unzipping corpora/names.zip.\n",
      "[nltk_data]    | Downloading package ppattach to /root/nltk_data...\n",
      "[nltk_data]    |   Unzipping corpora/ppattach.zip.\n",
      "[nltk_data]    | Downloading package reuters to /root/nltk_data...\n",
      "[nltk_data]    | Downloading package senseval to /root/nltk_data...\n",
      "[nltk_data]    |   Unzipping corpora/senseval.zip.\n",
      "[nltk_data]    | Downloading package state_union to /root/nltk_data...\n",
      "[nltk_data]    |   Unzipping corpora/state_union.zip.\n",
      "[nltk_data]    | Downloading package stopwords to /root/nltk_data...\n",
      "[nltk_data]    |   Unzipping corpora/stopwords.zip.\n",
      "[nltk_data]    | Downloading package swadesh to /root/nltk_data...\n",
      "[nltk_data]    |   Unzipping corpora/swadesh.zip.\n",
      "[nltk_data]    | Downloading package timit to /root/nltk_data...\n",
      "[nltk_data]    |   Unzipping corpora/timit.zip.\n",
      "[nltk_data]    | Downloading package treebank to /root/nltk_data...\n",
      "[nltk_data]    |   Unzipping corpora/treebank.zip.\n",
      "[nltk_data]    | Downloading package toolbox to /root/nltk_data...\n",
      "[nltk_data]    |   Unzipping corpora/toolbox.zip.\n",
      "[nltk_data]    | Downloading package udhr to /root/nltk_data...\n",
      "[nltk_data]    |   Unzipping corpora/udhr.zip.\n",
      "[nltk_data]    | Downloading package udhr2 to /root/nltk_data...\n",
      "[nltk_data]    |   Unzipping corpora/udhr2.zip.\n",
      "[nltk_data]    | Downloading package unicode_samples to\n",
      "[nltk_data]    |     /root/nltk_data...\n",
      "[nltk_data]    |   Unzipping corpora/unicode_samples.zip.\n",
      "[nltk_data]    | Downloading package webtext to /root/nltk_data...\n",
      "[nltk_data]    |   Unzipping corpora/webtext.zip.\n",
      "[nltk_data]    | Downloading package wordnet to /root/nltk_data...\n",
      "[nltk_data]    |   Unzipping corpora/wordnet.zip.\n",
      "[nltk_data]    | Downloading package wordnet_ic to /root/nltk_data...\n",
      "[nltk_data]    |   Unzipping corpora/wordnet_ic.zip.\n",
      "[nltk_data]    | Downloading package words to /root/nltk_data...\n",
      "[nltk_data]    |   Unzipping corpora/words.zip.\n",
      "[nltk_data]    | Downloading package maxent_treebank_pos_tagger to\n",
      "[nltk_data]    |     /root/nltk_data...\n",
      "[nltk_data]    |   Unzipping taggers/maxent_treebank_pos_tagger.zip.\n",
      "[nltk_data]    | Downloading package maxent_ne_chunker to\n",
      "[nltk_data]    |     /root/nltk_data...\n",
      "[nltk_data]    |   Unzipping chunkers/maxent_ne_chunker.zip.\n",
      "[nltk_data]    | Downloading package universal_tagset to\n",
      "[nltk_data]    |     /root/nltk_data...\n",
      "[nltk_data]    |   Unzipping taggers/universal_tagset.zip.\n",
      "[nltk_data]    | Downloading package punkt to /root/nltk_data...\n",
      "[nltk_data]    |   Unzipping tokenizers/punkt.zip.\n",
      "[nltk_data]    | Downloading package book_grammars to\n",
      "[nltk_data]    |     /root/nltk_data...\n",
      "[nltk_data]    |   Unzipping grammars/book_grammars.zip.\n",
      "[nltk_data]    | Downloading package city_database to\n",
      "[nltk_data]    |     /root/nltk_data...\n",
      "[nltk_data]    |   Unzipping corpora/city_database.zip.\n",
      "[nltk_data]    | Downloading package tagsets to /root/nltk_data...\n",
      "[nltk_data]    |   Unzipping help/tagsets.zip.\n",
      "[nltk_data]    | Downloading package panlex_swadesh to\n",
      "[nltk_data]    |     /root/nltk_data...\n",
      "[nltk_data]    | Downloading package averaged_perceptron_tagger to\n",
      "[nltk_data]    |     /root/nltk_data...\n",
      "[nltk_data]    |   Unzipping taggers/averaged_perceptron_tagger.zip.\n",
      "[nltk_data]    | \n",
      "[nltk_data]  Done downloading collection book\n"
     ]
    },
    {
     "data": {
      "text/plain": [
       "True"
      ]
     },
     "execution_count": 7,
     "metadata": {
      "tags": []
     },
     "output_type": "execute_result"
    }
   ],
   "source": [
    "nltk.download('book')"
   ]
  },
  {
   "cell_type": "code",
   "execution_count": null,
   "metadata": {
    "colab": {
     "base_uri": "https://localhost:8080/",
     "height": 272
    },
    "colab_type": "code",
    "id": "-d4tpjIgXlEu",
    "outputId": "4ce5ed88-ccaa-4bcf-a700-c0b49f8d6691"
   },
   "outputs": [
    {
     "data": {
      "text/plain": [
       "['# 1. AT THE BAY.\\n## ',\n",
       " '2. THE GARDEN PARTY.',\n",
       " '3. THE DAUGHTERS OF ',\n",
       " '4. MR. AND MRS. DOVE',\n",
       " '5. THE YOUNG GIRL.\\n\\n',\n",
       " '6. LIFE OF MA PARKER',\n",
       " '7. MARRIAGE A LA MOD',\n",
       " '8. THE VOYAGE.\\n\\nThe ',\n",
       " '9. MISS BRILL.\\n\\nAlth',\n",
       " '10. HER FIRST BALL.\\n',\n",
       " '11. THE SINGING LESS',\n",
       " '12. THE STRANGER\\n\\nIt',\n",
       " '13. BANK HOLIDAY.\\n\\nA',\n",
       " '14. AN IDEAL FAMILY.',\n",
       " \"15. The Lady's Maid\\n\"]"
      ]
     },
     "execution_count": 8,
     "metadata": {
      "tags": []
     },
     "output_type": "execute_result"
    }
   ],
   "source": [
    "gardenParty = requests.get('https://raw.githubusercontent.com/JonathanReeve/course-computational-literary-analysis/master/Texts/garden-party.md').text\n",
    "gardenParts = gardenParty.split('\\n# ')\n",
    "[part[:20] for part in gardenParts]"
   ]
  },
  {
   "cell_type": "code",
   "execution_count": null,
   "metadata": {
    "colab": {},
    "colab_type": "code",
    "id": "14piyVm9XbiI"
   },
   "outputs": [],
   "source": [
    "gpText = Text(gardenParts[1])"
   ]
  },
  {
   "cell_type": "code",
   "execution_count": null,
   "metadata": {
    "colab": {
     "base_uri": "https://localhost:8080/",
     "height": 221
    },
    "colab_type": "code",
    "id": "grDNYS1NYLxm",
    "outputId": "447f5060-1387-42cc-ac92-7c51e1ff475b"
   },
   "outputs": [
    {
     "data": {
      "text/plain": [
       "{'Austronesian': 0.0,\n",
       " 'Balto-Slavic': 0.0,\n",
       " 'Celtic': 0.0,\n",
       " 'Germanic': 59.516954574536136,\n",
       " 'Hellenic': 0.5758157389635316,\n",
       " 'Indo-Iranian': 0.0639795265515035,\n",
       " 'Japonic': 0.19193857965451053,\n",
       " 'Latinate': 38.787587971849014,\n",
       " 'Other': 0.19193857965451053,\n",
       " 'Semitic': 0.4798464491362763,\n",
       " 'Turkic': 0.19193857965451053,\n",
       " 'Uralic': 0.0}"
      ]
     },
     "execution_count": 13,
     "metadata": {
      "tags": []
     },
     "output_type": "execute_result"
    }
   ],
   "source": [
    "gpText.familyStats()"
   ]
  },
  {
   "cell_type": "code",
   "execution_count": null,
   "metadata": {
    "colab": {},
    "colab_type": "code",
    "id": "4GjhhmNVYRJt"
   },
   "outputs": [],
   "source": [
    "moonstoneUrl = 'https://raw.githubusercontent.com/JonathanReeve/course-computational-literary-analysis/gh-pages/_texts/moonstone.md'\n",
    "moonstoneText = requests.get(moonstoneUrl).text\n",
    "moonstoneParts = moonstoneText.split('\\n## ')"
   ]
  },
  {
   "cell_type": "code",
   "execution_count": null,
   "metadata": {
    "colab": {
     "base_uri": "https://localhost:8080/",
     "height": 221
    },
    "colab_type": "code",
    "id": "0AnggUMDCCZK",
    "outputId": "550ec72f-f3c6-4df4-b104-288672614c6c"
   },
   "outputs": [
    {
     "data": {
      "text/plain": [
       "[(0, '---\\nlayout: narrative\\ntitle: \"The Moonstone\"\\nautho'),\n",
       " (1, 'Prologue\\n\\nThe Storming of Seringapatam (1799)\\n\\nExt'),\n",
       " (2, 'Second Period\\n\\nTHE DISCOVERY OF THE TRUTH (1848-18'),\n",
       " (3, 'First Narrative\\n\\nContributed by MISS CLACK; niece '),\n",
       " (4, 'Second Narrative\\n\\nContributed by MATHEW BRUFF, Sol'),\n",
       " (5, 'Third Narrative\\n\\nContributed by FRANKLIN BLAKE\\n\\n##'),\n",
       " (6, 'Fourth Narrative\\n\\nExtracted from the Journal of EZ'),\n",
       " (7, 'Fifth Narrative\\n\\nThe Story Resumed by FRANKLIN BLA'),\n",
       " (8, 'Sixth Narrative\\n\\nContributed by SERGEANT CUFF\\n\\n###'),\n",
       " (9, 'Seventh Narrative\\n\\nIn a Letter from MR. CANDY\\n\\nFri'),\n",
       " (10, 'Eighth Narrative\\n\\nContributed by GABRIEL BETTEREDG'),\n",
       " (11, 'Epilogue\\n\\nTHE FINDING OF THE DIAMOND\\n\\n### Chapter ')]"
      ]
     },
     "execution_count": 15,
     "metadata": {
      "tags": []
     },
     "output_type": "execute_result"
    }
   ],
   "source": [
    "[(i, part[:50]) for i, part in enumerate(moonstoneParts)]"
   ]
  },
  {
   "cell_type": "code",
   "execution_count": null,
   "metadata": {
    "colab": {},
    "colab_type": "code",
    "id": "wFAkAW0pCFiE"
   },
   "outputs": [],
   "source": [
    "moonstoneObjs = [Text(part) for part in moonstoneParts]"
   ]
  },
  {
   "cell_type": "code",
   "execution_count": null,
   "metadata": {
    "colab": {},
    "colab_type": "code",
    "id": "9_dI8JQ_ClZh"
   },
   "outputs": [],
   "source": [
    "moonstoneEtym = [t.familyStats() for t in moonstoneObjs]"
   ]
  },
  {
   "cell_type": "code",
   "execution_count": null,
   "metadata": {
    "colab": {},
    "colab_type": "code",
    "id": "vRXvwfYMEUfu"
   },
   "outputs": [],
   "source": [
    "moonstoneLengths = [len(part) for part in moonstoneParts]"
   ]
  },
  {
   "cell_type": "code",
   "execution_count": null,
   "metadata": {
    "colab": {},
    "colab_type": "code",
    "id": "dfQP4bYTCtGg"
   },
   "outputs": [],
   "source": [
    "labels = ['??', 'Prologue', 'Betteredge', 'Clack', 'Bruff', 'Blake', 'Jennings', 'Blake2', 'Cuff', 'Candy', 'Betteredge2', 'Epilogue']\n",
    "df = pd.DataFrame(moonstoneEtym, index=labels)"
   ]
  },
  {
   "cell_type": "code",
   "execution_count": null,
   "metadata": {
    "colab": {
     "base_uri": "https://localhost:8080/",
     "height": 421
    },
    "colab_type": "code",
    "id": "5LA0TUaxE1LH",
    "outputId": "3d840bf0-8067-447e-d27e-ea1d160abb5b"
   },
   "outputs": [
    {
     "data": {
      "text/html": [
       "<div>\n",
       "<style scoped>\n",
       "    .dataframe tbody tr th:only-of-type {\n",
       "        vertical-align: middle;\n",
       "    }\n",
       "\n",
       "    .dataframe tbody tr th {\n",
       "        vertical-align: top;\n",
       "    }\n",
       "\n",
       "    .dataframe thead th {\n",
       "        text-align: right;\n",
       "    }\n",
       "</style>\n",
       "<table border=\"1\" class=\"dataframe\">\n",
       "  <thead>\n",
       "    <tr style=\"text-align: right;\">\n",
       "      <th></th>\n",
       "      <th>Austronesian</th>\n",
       "      <th>Balto-Slavic</th>\n",
       "      <th>Celtic</th>\n",
       "      <th>Germanic</th>\n",
       "      <th>Hellenic</th>\n",
       "      <th>Indo-Iranian</th>\n",
       "      <th>Japonic</th>\n",
       "      <th>Latinate</th>\n",
       "      <th>Other</th>\n",
       "      <th>Semitic</th>\n",
       "      <th>Turkic</th>\n",
       "      <th>Uralic</th>\n",
       "    </tr>\n",
       "  </thead>\n",
       "  <tbody>\n",
       "    <tr>\n",
       "      <th>??</th>\n",
       "      <td>0.000000</td>\n",
       "      <td>0.000000</td>\n",
       "      <td>0.000000</td>\n",
       "      <td>22.222222</td>\n",
       "      <td>0.000000</td>\n",
       "      <td>0.000000</td>\n",
       "      <td>0.0</td>\n",
       "      <td>77.777778</td>\n",
       "      <td>NaN</td>\n",
       "      <td>0.000000</td>\n",
       "      <td>0.000000</td>\n",
       "      <td>0.000000</td>\n",
       "    </tr>\n",
       "    <tr>\n",
       "      <th>Prologue</th>\n",
       "      <td>0.025349</td>\n",
       "      <td>0.038023</td>\n",
       "      <td>0.019011</td>\n",
       "      <td>39.673004</td>\n",
       "      <td>0.380228</td>\n",
       "      <td>0.069708</td>\n",
       "      <td>0.0</td>\n",
       "      <td>59.243346</td>\n",
       "      <td>0.171103</td>\n",
       "      <td>0.304183</td>\n",
       "      <td>0.076046</td>\n",
       "      <td>0.000000</td>\n",
       "    </tr>\n",
       "    <tr>\n",
       "      <th>Betteredge</th>\n",
       "      <td>0.000000</td>\n",
       "      <td>0.000000</td>\n",
       "      <td>0.000000</td>\n",
       "      <td>0.000000</td>\n",
       "      <td>0.000000</td>\n",
       "      <td>0.000000</td>\n",
       "      <td>0.0</td>\n",
       "      <td>100.000000</td>\n",
       "      <td>NaN</td>\n",
       "      <td>0.000000</td>\n",
       "      <td>0.000000</td>\n",
       "      <td>0.000000</td>\n",
       "    </tr>\n",
       "    <tr>\n",
       "      <th>Clack</th>\n",
       "      <td>0.036350</td>\n",
       "      <td>0.000000</td>\n",
       "      <td>0.000000</td>\n",
       "      <td>36.018720</td>\n",
       "      <td>0.517993</td>\n",
       "      <td>0.072701</td>\n",
       "      <td>0.0</td>\n",
       "      <td>62.763541</td>\n",
       "      <td>0.190840</td>\n",
       "      <td>0.290803</td>\n",
       "      <td>0.109051</td>\n",
       "      <td>0.000000</td>\n",
       "    </tr>\n",
       "    <tr>\n",
       "      <th>Bruff</th>\n",
       "      <td>0.035804</td>\n",
       "      <td>0.000000</td>\n",
       "      <td>0.000000</td>\n",
       "      <td>35.775152</td>\n",
       "      <td>0.358038</td>\n",
       "      <td>0.035804</td>\n",
       "      <td>0.0</td>\n",
       "      <td>63.258145</td>\n",
       "      <td>0.107411</td>\n",
       "      <td>0.322234</td>\n",
       "      <td>0.107411</td>\n",
       "      <td>0.000000</td>\n",
       "    </tr>\n",
       "    <tr>\n",
       "      <th>Blake</th>\n",
       "      <td>0.032906</td>\n",
       "      <td>0.000000</td>\n",
       "      <td>0.049358</td>\n",
       "      <td>38.840079</td>\n",
       "      <td>0.394867</td>\n",
       "      <td>0.016453</td>\n",
       "      <td>0.0</td>\n",
       "      <td>60.246792</td>\n",
       "      <td>0.123396</td>\n",
       "      <td>0.197433</td>\n",
       "      <td>0.098717</td>\n",
       "      <td>0.000000</td>\n",
       "    </tr>\n",
       "    <tr>\n",
       "      <th>Jennings</th>\n",
       "      <td>0.029682</td>\n",
       "      <td>0.000000</td>\n",
       "      <td>0.044524</td>\n",
       "      <td>41.257050</td>\n",
       "      <td>0.712378</td>\n",
       "      <td>0.207777</td>\n",
       "      <td>0.0</td>\n",
       "      <td>57.080736</td>\n",
       "      <td>0.089047</td>\n",
       "      <td>0.400712</td>\n",
       "      <td>0.089047</td>\n",
       "      <td>0.089047</td>\n",
       "    </tr>\n",
       "    <tr>\n",
       "      <th>Blake2</th>\n",
       "      <td>0.052247</td>\n",
       "      <td>0.000000</td>\n",
       "      <td>0.000000</td>\n",
       "      <td>46.238245</td>\n",
       "      <td>0.365726</td>\n",
       "      <td>0.208986</td>\n",
       "      <td>0.0</td>\n",
       "      <td>52.455590</td>\n",
       "      <td>NaN</td>\n",
       "      <td>0.522466</td>\n",
       "      <td>0.156740</td>\n",
       "      <td>0.000000</td>\n",
       "    </tr>\n",
       "    <tr>\n",
       "      <th>Cuff</th>\n",
       "      <td>0.000000</td>\n",
       "      <td>0.000000</td>\n",
       "      <td>0.000000</td>\n",
       "      <td>38.620072</td>\n",
       "      <td>0.238949</td>\n",
       "      <td>0.059737</td>\n",
       "      <td>0.0</td>\n",
       "      <td>60.394265</td>\n",
       "      <td>NaN</td>\n",
       "      <td>0.507766</td>\n",
       "      <td>0.179211</td>\n",
       "      <td>0.000000</td>\n",
       "    </tr>\n",
       "    <tr>\n",
       "      <th>Candy</th>\n",
       "      <td>0.000000</td>\n",
       "      <td>0.000000</td>\n",
       "      <td>0.000000</td>\n",
       "      <td>64.294404</td>\n",
       "      <td>0.729927</td>\n",
       "      <td>0.000000</td>\n",
       "      <td>0.0</td>\n",
       "      <td>34.610706</td>\n",
       "      <td>NaN</td>\n",
       "      <td>0.364964</td>\n",
       "      <td>0.000000</td>\n",
       "      <td>0.000000</td>\n",
       "    </tr>\n",
       "    <tr>\n",
       "      <th>Betteredge2</th>\n",
       "      <td>0.000000</td>\n",
       "      <td>0.000000</td>\n",
       "      <td>0.000000</td>\n",
       "      <td>50.496689</td>\n",
       "      <td>0.662252</td>\n",
       "      <td>0.000000</td>\n",
       "      <td>0.0</td>\n",
       "      <td>47.847682</td>\n",
       "      <td>0.331126</td>\n",
       "      <td>0.662252</td>\n",
       "      <td>0.000000</td>\n",
       "      <td>0.000000</td>\n",
       "    </tr>\n",
       "    <tr>\n",
       "      <th>Epilogue</th>\n",
       "      <td>0.000000</td>\n",
       "      <td>0.000000</td>\n",
       "      <td>0.000000</td>\n",
       "      <td>45.522031</td>\n",
       "      <td>0.287356</td>\n",
       "      <td>0.000000</td>\n",
       "      <td>0.0</td>\n",
       "      <td>53.472222</td>\n",
       "      <td>0.287356</td>\n",
       "      <td>0.431034</td>\n",
       "      <td>0.000000</td>\n",
       "      <td>0.000000</td>\n",
       "    </tr>\n",
       "  </tbody>\n",
       "</table>\n",
       "</div>"
      ],
      "text/plain": [
       "             Austronesian  Balto-Slavic    Celtic  ...   Semitic    Turkic    Uralic\n",
       "??               0.000000      0.000000  0.000000  ...  0.000000  0.000000  0.000000\n",
       "Prologue         0.025349      0.038023  0.019011  ...  0.304183  0.076046  0.000000\n",
       "Betteredge       0.000000      0.000000  0.000000  ...  0.000000  0.000000  0.000000\n",
       "Clack            0.036350      0.000000  0.000000  ...  0.290803  0.109051  0.000000\n",
       "Bruff            0.035804      0.000000  0.000000  ...  0.322234  0.107411  0.000000\n",
       "Blake            0.032906      0.000000  0.049358  ...  0.197433  0.098717  0.000000\n",
       "Jennings         0.029682      0.000000  0.044524  ...  0.400712  0.089047  0.089047\n",
       "Blake2           0.052247      0.000000  0.000000  ...  0.522466  0.156740  0.000000\n",
       "Cuff             0.000000      0.000000  0.000000  ...  0.507766  0.179211  0.000000\n",
       "Candy            0.000000      0.000000  0.000000  ...  0.364964  0.000000  0.000000\n",
       "Betteredge2      0.000000      0.000000  0.000000  ...  0.662252  0.000000  0.000000\n",
       "Epilogue         0.000000      0.000000  0.000000  ...  0.431034  0.000000  0.000000\n",
       "\n",
       "[12 rows x 12 columns]"
      ]
     },
     "execution_count": 20,
     "metadata": {
      "tags": []
     },
     "output_type": "execute_result"
    }
   ],
   "source": [
    "df"
   ]
  },
  {
   "cell_type": "code",
   "execution_count": null,
   "metadata": {
    "colab": {
     "base_uri": "https://localhost:8080/",
     "height": 556
    },
    "colab_type": "code",
    "id": "EhxDxnArCvX5",
    "outputId": "75ea337e-8243-4b67-920c-c9a3f3685751"
   },
   "outputs": [
    {
     "data": {
      "text/plain": [
       "<matplotlib.axes._subplots.AxesSubplot at 0x7f436ccb2748>"
      ]
     },
     "execution_count": 21,
     "metadata": {
      "tags": []
     },
     "output_type": "execute_result"
    },
    {
     "data": {
      "image/png": "[encoded data removed]",
      "text/plain": [
       "<Figure size 864x576 with 1 Axes>"
      ]
     },
     "metadata": {
      "tags": []
     },
     "output_type": "display_data"
    }
   ],
   "source": [
    "df[['Latinate', 'Germanic']].plot(kind='bar', figsize=(12,8))"
   ]
  },
  {
   "cell_type": "code",
   "execution_count": null,
   "metadata": {
    "colab": {},
    "colab_type": "code",
    "id": "SChLTic4DxiX"
   },
   "outputs": [],
   "source": []
  }
 ],
 "metadata": {
  "colab": {
   "name": "macroetym_test.ipynb",
   "provenance": [],
   "version": "0.3.2"
  },
  "kernelspec": {
   "display_name": "Python 3",
   "language": "python",
   "name": "python3"
  },
  "language_info": {
   "codemirror_mode": {
    "name": "ipython",
    "version": 3
   },
   "file_extension": ".py",
   "mimetype": "text/x-python",
   "name": "python",
   "nbconvert_exporter": "python",
   "pygments_lexer": "ipython3",
   "version": "3.7.3"
  }
 },
 "nbformat": 4,
 "nbformat_minor": 2
}
